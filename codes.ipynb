{
 "cells": [
  {
   "cell_type": "markdown",
   "id": "db800ffe",
   "metadata": {},
   "source": [
    "# EXPENSE CLASS"
   ]
  },
  {
   "cell_type": "code",
   "execution_count": 34,
   "id": "b8a20a40",
   "metadata": {},
   "outputs": [],
   "source": [
    "import uuid\n",
    "from datetime import datetime, timezone\n",
    "\n",
    "class Expense:\n",
    "    def __init__ (self, id,title, amount,created_at, updated_at):\n",
    "        self.id = uuid.uuid4()\n",
    "        self.title = title\n",
    "        self.amount = amount\n",
    "        self.created_at = created_at\n",
    "        self.updated_at =updated_at\n",
    "\n",
    "    def update(self, amount=None, title=None):\n",
    "        if amount is not None:\n",
    "            self.amount = amount\n",
    "        if title is not None:\n",
    "            self.title = title\n",
    "        self.updated_at = datetime.utcnow()\n",
    "\n",
    "    def to_dict(self):\n",
    "        my_dict ={\n",
    "            \"title\": self.title,\n",
    "            \"amount\": self.amount,\n",
    "            \"created_at\": self.created_at,\n",
    "            \"updated_at\": self.updated_at\n",
    "        }\n",
    "        return my_dict\n",
    "    \n",
    "    def display_info(self):\n",
    "        print(f\"{self.id},my expenses are {self.title} with {self.amount}, created in {self.created_at} and updated on {self.updated_at}\")\n",
    "    \n",
    "    "
   ]
  },
  {
   "cell_type": "code",
   "execution_count": null,
   "id": "a5c2bfc9",
   "metadata": {},
   "outputs": [],
   "source": []
  },
  {
   "cell_type": "code",
   "execution_count": 35,
   "id": "0f1aa40a",
   "metadata": {},
   "outputs": [],
   "source": [
    "ans = Expense (id, title= 'blessing', amount= '1000', created_at='2020', updated_at='')\n",
    "ans.update(title= 'ferrum', amount= '2000')"
   ]
  },
  {
   "cell_type": "code",
   "execution_count": 36,
   "id": "29edba24",
   "metadata": {},
   "outputs": [
    {
     "name": "stdout",
     "output_type": "stream",
     "text": [
      "b0ef2fee-1648-45af-9b65-9f81524101c3,my expences are ferrum with 2000 and created 2020 and updated 2025-02-22 13:38:47.920569\n"
     ]
    }
   ],
   "source": [
    "ans.display_info()"
   ]
  },
  {
   "cell_type": "code",
   "execution_count": null,
   "id": "68a80c69",
   "metadata": {},
   "outputs": [],
   "source": []
  },
  {
   "cell_type": "markdown",
   "id": "3854c383",
   "metadata": {},
   "source": [
    "# EXPENSE DATABASE CLASS"
   ]
  },
  {
   "cell_type": "code",
   "execution_count": 17,
   "id": "d93af284",
   "metadata": {},
   "outputs": [],
   "source": [
    "\n",
    "    \n",
    "class ExpenseDatabase:\n",
    "    def __init__(self):\n",
    "        self.expense = []\n",
    "        \n",
    "    def add_expense(self, expense):\n",
    "        self.expense.append(expense)\n",
    "        \n",
    "    def remove_expense(self, expense_id):\n",
    "        for exp in self.expense:\n",
    "            if exp.id == expense_id:\n",
    "                self.expense.pop()\n",
    "\n",
    "    def get_expense_by_id(self,expense_id):\n",
    "        for exp in self.expense:\n",
    "            if exp.id == expense_id:\n",
    "                return exp\n",
    "            \n",
    "    def get_expense_by_title(self,expense_title):\n",
    "        for exp in self.title:\n",
    "            if exp.id == expense_title:\n",
    "                return exp\n",
    "            \n",
    "    def to_dict(self):\n",
    "        dict_of_all_expenses = []\n",
    "        for exp in self.expense:\n",
    "            my_dict ={\n",
    "                \"id\": exp.id,\n",
    "                \"title\": exp.title,\n",
    "                \"amount\": exp.amount,\n",
    "                \"created_at\": exp.created_at,\n",
    "                \"updated_at\": exp.updated_at\n",
    "            }\n",
    "            dict_of_all_expenses.append(my_dict)\n",
    "        return dict_of_all_expenses"
   ]
  },
  {
   "cell_type": "code",
   "execution_count": 18,
   "id": "57084f5d",
   "metadata": {},
   "outputs": [
    {
     "data": {
      "text/plain": [
       "[{'id': UUID('e9b6dd85-39ae-4908-967b-d4dbcf5dc6e7'),\n",
       "  'title': 'ferrum',\n",
       "  'amount': '2000',\n",
       "  'created_at': '2020',\n",
       "  'updated_at': datetime.datetime(2025, 2, 22, 18, 20, 26, 26017)},\n",
       " {'id': UUID('d3b773b3-9e2e-4fc8-9b76-44e3637c5a87'),\n",
       "  'title': 'blessing',\n",
       "  'amount': '1000',\n",
       "  'created_at': '2020',\n",
       "  'updated_at': ''}]"
      ]
     },
     "execution_count": 18,
     "metadata": {},
     "output_type": "execute_result"
    }
   ],
   "source": [
    "ans = Expense (id, title= 'blessing', amount= '1000', created_at='2020', updated_at='')\n",
    "ans.update(title= 'ferrum', amount= '2000')\n",
    "\n",
    "ens = Expense (id, title= 'blessing', amount= '1000', created_at='2020', updated_at='')\n",
    "\n",
    "\n",
    "inst = ExpenseDatabase()\n",
    "inst.add_expense (expense= ans)\n",
    "inst.add_expense (expense= ens)\n",
    "inst.to_dict()\n",
    " \n",
    "        "
   ]
  },
  {
   "cell_type": "code",
   "execution_count": null,
   "id": "ea40ff62",
   "metadata": {},
   "outputs": [],
   "source": []
  }
 ],
 "metadata": {
  "kernelspec": {
   "display_name": "Python 3 (ipykernel)",
   "language": "python",
   "name": "python3"
  },
  "language_info": {
   "codemirror_mode": {
    "name": "ipython",
    "version": 3
   },
   "file_extension": ".py",
   "mimetype": "text/x-python",
   "name": "python",
   "nbconvert_exporter": "python",
   "pygments_lexer": "ipython3",
   "version": "3.9.7"
  }
 },
 "nbformat": 4,
 "nbformat_minor": 5
}
